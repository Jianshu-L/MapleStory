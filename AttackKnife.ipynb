{
 "cells": [
  {
   "cell_type": "code",
   "execution_count": 2,
   "id": "143baec4",
   "metadata": {},
   "outputs": [],
   "source": [
    "import numpy as np"
   ]
  },
  {
   "cell_type": "code",
   "execution_count": 17,
   "id": "4bbe067f",
   "metadata": {},
   "outputs": [
    {
     "data": {
      "text/plain": [
       "146.89156626506025"
      ]
     },
     "execution_count": 17,
     "metadata": {},
     "output_type": "execute_result"
    }
   ],
   "source": [
    "need_ag = 150\n",
    "level = 130\n",
    "base_attack = 97+30\n",
    "\n",
    "x = level*5\n",
    "base_all_lucky = 3.6*x+need_ag*3.6\n",
    "base_lucky_ag = 3.6*x+need_ag\n",
    "\n",
    "attack_coef = base_all_lucky/base_lucky_ag\n",
    "base_attack*attack_coef"
   ]
  },
  {
   "cell_type": "code",
   "execution_count": null,
   "id": "654148b7",
   "metadata": {},
   "outputs": [],
   "source": []
  }
 ],
 "metadata": {
  "kernelspec": {
   "display_name": "myenv",
   "language": "python",
   "name": "python3"
  },
  "language_info": {
   "codemirror_mode": {
    "name": "ipython",
    "version": 3
   },
   "file_extension": ".py",
   "mimetype": "text/x-python",
   "name": "python",
   "nbconvert_exporter": "python",
   "pygments_lexer": "ipython3",
   "version": "3.9.20"
  }
 },
 "nbformat": 4,
 "nbformat_minor": 5
}
