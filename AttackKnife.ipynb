{
 "cells": [
  {
   "cell_type": "code",
   "execution_count": 4,
   "id": "143baec4",
   "metadata": {},
   "outputs": [],
   "source": [
    "import numpy as np"
   ]
  },
  {
   "cell_type": "code",
   "execution_count": 5,
   "id": "585568a9",
   "metadata": {},
   "outputs": [],
   "source": [
    "def cal_damage(lucky, power, ag, attack):\n",
    "    return (lucky*3.6+power+ag)*attack/100"
   ]
  },
  {
   "cell_type": "code",
   "execution_count": 6,
   "id": "bc1e18ee",
   "metadata": {},
   "outputs": [
    {
     "name": "stdout",
     "output_type": "stream",
     "text": [
      "need ag 0\n",
      "total lucky: 614\n",
      "total power: 64\n",
      "total ag: 75\n",
      "total attack: 125\n"
     ]
    },
    {
     "data": {
      "text/plain": [
       "2936.75"
      ]
     },
     "execution_count": 6,
     "metadata": {},
     "output_type": "execute_result"
    }
   ],
   "source": [
    "level = 110\n",
    "base_lucky = level * 5\n",
    "all_properties_from_equip = 50+14\n",
    "base_attack = 15\n",
    "\n",
    "add_ag = 11 # 转职要求\n",
    "add_power = all_properties_from_equip\n",
    "add_lucky = all_properties_from_equip\n",
    "\n",
    "equip_ask_ag = 0\n",
    "equip_add_ag = all_properties_from_equip+add_ag+0\n",
    "equip_add_attack = 0\n",
    "need_ag = equip_ask_ag-equip_add_ag\n",
    "if need_ag < 0:\n",
    "    need_ag = 0\n",
    "print(f\"need ag {need_ag}\")\n",
    "\n",
    "print(f\"total lucky: {base_lucky-need_ag+add_lucky}\")\n",
    "print(f\"total power: {add_power}\")\n",
    "print(f\"total ag: {equip_add_ag}\")\n",
    "print(f\"total attack: {base_attack+110+equip_add_attack}\")\n",
    "cal_damage(base_lucky-need_ag+add_lucky, add_power, equip_add_ag, base_attack+110+equip_add_attack)"
   ]
  },
  {
   "cell_type": "code",
   "execution_count": 7,
   "id": "902ef18c",
   "metadata": {},
   "outputs": [
    {
     "name": "stdout",
     "output_type": "stream",
     "text": [
      "need ag 0\n",
      "total lucky: 664\n",
      "total power: 64\n",
      "total ag: 140\n",
      "total attack: 155\n"
     ]
    },
    {
     "data": {
      "text/plain": [
       "4021.32"
      ]
     },
     "execution_count": 7,
     "metadata": {},
     "output_type": "execute_result"
    }
   ],
   "source": [
    "level = 120\n",
    "base_lucky = level * 5\n",
    "all_properties_from_equip = 50+14\n",
    "base_attack = 15\n",
    "\n",
    "add_ag = 11 # 转职要求\n",
    "add_power = all_properties_from_equip\n",
    "add_lucky = all_properties_from_equip\n",
    "\n",
    "equip_ask_ag = 140\n",
    "equip_add_ag = all_properties_from_equip+add_ag+65\n",
    "equip_add_attack = 30\n",
    "need_ag = equip_ask_ag-equip_add_ag\n",
    "print(f\"need ag {need_ag}\")\n",
    "\n",
    "print(f\"total lucky: {base_lucky-need_ag+add_lucky}\")\n",
    "print(f\"total power: {add_power}\")\n",
    "print(f\"total ag: {equip_add_ag}\")\n",
    "print(f\"total attack: {base_attack+110+equip_add_attack}\")\n",
    "cal_damage(base_lucky-need_ag+add_lucky, add_power, equip_add_ag, base_attack+110+equip_add_attack)"
   ]
  },
  {
   "cell_type": "code",
   "execution_count": 2,
   "id": "5fee3df9",
   "metadata": {},
   "outputs": [
    {
     "data": {
      "text/plain": [
       "5373"
      ]
     },
     "execution_count": 2,
     "metadata": {},
     "output_type": "execute_result"
    }
   ],
   "source": [
    "22*(110-83)+2779+1500+500"
   ]
  },
  {
   "cell_type": "code",
   "execution_count": null,
   "id": "654148b7",
   "metadata": {},
   "outputs": [],
   "source": []
  }
 ],
 "metadata": {
  "kernelspec": {
   "display_name": "MDP",
   "language": "python",
   "name": "python3"
  },
  "language_info": {
   "codemirror_mode": {
    "name": "ipython",
    "version": 3
   },
   "file_extension": ".py",
   "mimetype": "text/x-python",
   "name": "python",
   "nbconvert_exporter": "python",
   "pygments_lexer": "ipython3",
   "version": "3.13.7"
  }
 },
 "nbformat": 4,
 "nbformat_minor": 5
}
