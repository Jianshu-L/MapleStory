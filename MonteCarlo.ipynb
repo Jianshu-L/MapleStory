{
 "cells": [
  {
   "cell_type": "code",
   "execution_count": 1,
   "id": "ae65652a",
   "metadata": {},
   "outputs": [],
   "source": [
    "import numpy as np\n",
    "from src.monte_carlo import monte_carlo_mix, Scroll, Item"
   ]
  },
  {
   "cell_type": "code",
   "execution_count": 2,
   "id": "3d354515",
   "metadata": {},
   "outputs": [],
   "source": [
    "%load_ext autoreload\n",
    "%autoreload 2"
   ]
  },
  {
   "cell_type": "code",
   "execution_count": 3,
   "id": "6ebc7923",
   "metadata": {},
   "outputs": [],
   "source": [
    "WEAPON_SCROLL_PRICE = {\"A\": 269, \"B\": 6.4, \"C\": 4800, \"D\": 9.5}\n",
    "SHIELD_SCROLL_PRICE = {\"A\": 79, \"B\": 2000, \"C\": 1522, \"D\": 700}\n",
    "WEAPON_SWORD = {\"108\": 25000, \"107\": 15000}"
   ]
  },
  {
   "cell_type": "code",
   "execution_count": 4,
   "id": "099f1bfb",
   "metadata": {},
   "outputs": [],
   "source": [
    "mxb_to_rmb = 56 # 56W mxb = 1rmb\n",
    "GROVE_ATTACK_PRICE = {\n",
    "    \"10\": 1500,\n",
    "    \"11\": 2500,\n",
    "    \"12\": 5000,\n",
    "    \"13\": 14000,\n",
    "    \"14\": 700*mxb_to_rmb,\n",
    "    \"15\": 2200*mxb_to_rmb,\n",
    "    \"16\": 6000*mxb_to_rmb,\n",
    "    \"17\": 12500*mxb_to_rmb\n",
    "}\n",
    "\n",
    "GROVE_SCROLL_PRICE = {\n",
    "    \"A\": 33, \n",
    "    \"B\": 597, \n",
    "    \"C\": 14959, \n",
    "    \"D\": 2325\n",
    "}\n",
    "item_price = 2500\n",
    "\n",
    "SCROLL_A = Scroll(\"A_10p_+3\", success_p=0.11, atk_value=3, destroy_on_fail_p=0.0)\n",
    "SCROLL_B = Scroll(\"B_60p_+2\", success_p=0.66, atk_value=2, destroy_on_fail_p=0.0)\n",
    "SCROLL_C = Scroll(\"C_30p_+3_boom50\", success_p=0.33, atk_value=3, destroy_on_fail_p=0.50)\n",
    "SCROLL_D = Scroll(\"D_70p_+2_boom50\", success_p=0.77, atk_value=2, destroy_on_fail_p=0.50)\n",
    "\n",
    "SCROLL_SET = {\"A\": SCROLL_A, \"B\": SCROLL_B, \"C\": SCROLL_C, \"D\": SCROLL_D}\n",
    "NAME_TO_KEY = {SCROLL_A.name: \"A\", SCROLL_B.name: \"B\", SCROLL_C.name: \"C\", SCROLL_D.name: \"D\"}  # 便于反查类型键"
   ]
  },
  {
   "cell_type": "code",
   "execution_count": 5,
   "id": "4488cbb0",
   "metadata": {},
   "outputs": [],
   "source": [
    "from src.monte_carlo import stop_all_success, stop_atk_at_least, strategy_fixed_sequence, monte_carlo_mix\n",
    "from src.monte_carlo import stop_when_fail_or_consume_all_slots, stop_on_first_fail\n",
    "import matplotlib.pyplot as plt\n",
    "from src.plot import create_figure\n",
    "\n",
    "def plot_bar_int(data, ax=None):\n",
    "    values, counts = np.unique(data, return_counts=True)\n",
    "    idx = values == 0\n",
    "    values = np.delete(values, idx)\n",
    "    counts = np.delete(counts, idx)\n",
    "    if ax is None:\n",
    "        plt.bar(values, counts/len(data), width=0.9, align='center', edgecolor='k')\n",
    "        plt.xticks(values)  # 每个整数一个刻度\n",
    "    else:\n",
    "        ax.bar(values, countslen(data), width=0.9, align='center', edgecolor='k')\n",
    "        ax.set_xticks(values)  # 每个整数一个刻度\n",
    "\n",
    "def plot_cdf_pdf(data, fig_title):\n",
    "\n",
    "    num_items = []\n",
    "    probability = []\n",
    "    for i in range(0,np.max(data)+1):\n",
    "        probability.append(np.sum(np.array(data) < i+1) / len(data))\n",
    "        num_items.append(i+1)\n",
    "\n",
    "    valid_num_items = range(0, int(np.mean(data) + 3*np.std(data, ddof=1)))\n",
    "    valid_probability = np.array(probability)[valid_num_items]\n",
    "\n",
    "    fig, axs = create_figure(1,3)\n",
    "    fig.suptitle(fig_title)\n",
    "    ax1 = fig.add_subplot(axs[0])\n",
    "    ax1.plot(valid_probability)\n",
    "    ax1.set_title(\"CDF\")\n",
    "\n",
    "    ax2 = fig.add_subplot(axs[1])\n",
    "    ax2.hist(data, bins=np.arange(0,np.max(data),5))\n",
    "    # ax2.axvline(np.max(valid_num_items), color='r')\n",
    "    ax2.axvline(np.mean(data), color='r')\n",
    "    ax2.set_title(\"PDF\")\n",
    "    ticks = ax2.get_yticks()\n",
    "    ax2.set_yticks(ticks)  # 固定刻度位置，防止后续自动变化\n",
    "    ax2.set_yticklabels([f\"{t/len(data):g}\" for t in ticks])\n",
    "\n",
    "    ax3 = fig.add_subplot(axs[2])\n",
    "    ax3.plot(np.diff(valid_probability))"
   ]
  },
  {
   "cell_type": "code",
   "execution_count": 6,
   "id": "376c6896",
   "metadata": {},
   "outputs": [],
   "source": [
    "def calculate_statistics(results):\n",
    "    scrolls_dist = {}\n",
    "    for scroll_name, scroll_distribution in results['scrolls_distribution'].items():\n",
    "        scrolls_dist[scroll_name] = np.mean(scroll_distribution)\n",
    "\n",
    "    num_groves = np.mean(results['items_distribution'])\n",
    "    \n",
    "    bad_groves_dist = {}\n",
    "    v,c = np.unique(results['items_properties']['atk_value']['good'], return_counts=True)\n",
    "    grove_sell = 0\n",
    "    for v_i,c_i in zip(v,c):\n",
    "        if v_i < np.max(v):\n",
    "            bad_groves_dist[str(v_i)] = c_i\n",
    "\n",
    "    return scrolls_dist, num_groves, bad_groves_dist"
   ]
  },
  {
   "cell_type": "code",
   "execution_count": 7,
   "id": "a413f995",
   "metadata": {},
   "outputs": [
    {
     "name": "stdout",
     "output_type": "stream",
     "text": [
      "seed: 1758608527\n"
     ]
    },
    {
     "name": "stderr",
     "output_type": "stream",
     "text": [
      "Monte Carlo: 100%|██████████| 100000/100000 [00:09<00:00, 10154.05it/s]\n"
     ]
    },
    {
     "name": "stdout",
     "output_type": "stream",
     "text": [
      "\n",
      "Number of Groves cost: 6.19803\n",
      "Number of D_70p_+2_boom50 cost: 22.6443\n",
      "bad grove value: 1018.325\n",
      "Total Cost 68143.07250000001\n",
      "Actual Price 39200\n"
     ]
    },
    {
     "data": {
      "text/plain": [
       "Text(0.5, 1.0, \"['D', 'D', 'D', 'D', 'D', 'D', 'D']\")"
      ]
     },
     "execution_count": 7,
     "metadata": {},
     "output_type": "execute_result"
    },
    {
     "data": {
      "image/png": "[encoded data removed]",
      "text/plain": [
       "<Figure size 640x480 with 1 Axes>"
      ]
     },
     "metadata": {},
     "output_type": "display_data"
    }
   ],
   "source": [
    "import time\n",
    "seed = int(time.time())\n",
    "print(f\"seed: {seed}\")\n",
    "rng = np.random.default_rng(seed)\n",
    "trials = 100000\n",
    "\n",
    "target = stop_all_success()\n",
    "scroll_list = [\"D\", \"D\", \"D\", \"D\", \"D\", \"D\", \"D\"]\n",
    "strat1 = strategy_fixed_sequence(scroll_list, SCROLL_SET)\n",
    "\n",
    "Procedure = stop_when_fail_or_consume_all_slots(strat1, target, stop_if_fail=True)\n",
    "# Procedure = stop_on_first_fail(strat1, target)\n",
    "item_state = Item(\"BrownGrove\", num_slots=7)\n",
    "results = monte_carlo_mix(rng, trials, item_state, Procedure, properties=[\"atk_value\"])\n",
    "max_attack = np.max(results['items_properties']['atk_value']['good'])\n",
    "print(\"\")\n",
    "\n",
    "scrolls_dist, num_groves, bad_groves_dist = calculate_statistics(results)\n",
    "print(f\"Number of Groves cost: {num_groves}\")\n",
    "\n",
    "scroll_cost = 0\n",
    "for key, value in scrolls_dist.items():\n",
    "    scroll_i = GROVE_SCROLL_PRICE[NAME_TO_KEY[key]] * value\n",
    "    scroll_cost += scroll_i\n",
    "    print(f\"Number of {key} cost: {value}\")\n",
    "\n",
    "bad_grove_value = 0\n",
    "for key, value in bad_groves_dist.items():\n",
    "    if key in GROVE_ATTACK_PRICE.keys():\n",
    "        bad_grove_value += GROVE_ATTACK_PRICE[key] * value\n",
    "bad_grove_value /= trials\n",
    "print(f\"bad grove value: {bad_grove_value}\")\n",
    "\n",
    "total_cost = scroll_cost + num_groves*item_price\n",
    "print(f\"Total Cost {total_cost}\")\n",
    "print(f\"Actual Price {GROVE_ATTACK_PRICE[str(max_attack)]}\")\n",
    "\n",
    "data = results['items_properties']['atk_value']['good']\n",
    "plot_bar_int(data)\n",
    "plt.title(scroll_list)"
   ]
  },
  {
   "cell_type": "code",
   "execution_count": 8,
   "id": "e92231e4",
   "metadata": {},
   "outputs": [
    {
     "name": "stdout",
     "output_type": "stream",
     "text": [
      "seed: 1758608537\n"
     ]
    },
    {
     "name": "stderr",
     "output_type": "stream",
     "text": [
      "Monte Carlo:   0%|          | 0/100000 [00:00<?, ?it/s]"
     ]
    },
    {
     "name": "stderr",
     "output_type": "stream",
     "text": [
      "Monte Carlo: 100%|██████████| 100000/100000 [01:01<00:00, 1630.81it/s]\n"
     ]
    },
    {
     "name": "stdout",
     "output_type": "stream",
     "text": [
      "\n",
      "Number of Groves cost: 43.75355\n",
      "Number of D_70p_+2_boom50 cost: 21.70406\n",
      "Number of A_10p_+3 cost: 43.75355\n",
      "bad grove value: 13361.2\n",
      "Total Cost 161289.68164999998\n",
      "Actual Price 123200\n"
     ]
    },
    {
     "data": {
      "image/png": "[encoded data removed]",
      "text/plain": [
       "<Figure size 640x480 with 1 Axes>"
      ]
     },
     "metadata": {},
     "output_type": "display_data"
    }
   ],
   "source": [
    "import time\n",
    "seed = int(time.time())\n",
    "print(f\"seed: {seed}\")\n",
    "rng = np.random.default_rng(seed)\n",
    "trials = 100000\n",
    "\n",
    "target = stop_all_success()\n",
    "scroll_list = [\"A\", \"D\", \"D\", \"D\", \"D\", \"D\", \"D\"]\n",
    "strat1 = strategy_fixed_sequence(scroll_list, SCROLL_SET)\n",
    "\n",
    "Procedure = stop_when_fail_or_consume_all_slots(strat1, target, stop_if_fail=True)\n",
    "# Procedure = stop_on_first_fail(strat1, target)\n",
    "item_state = Item(\"BrownGrove\", num_slots=7)\n",
    "results = monte_carlo_mix(rng, trials, item_state, Procedure, properties=[\"atk_value\"])\n",
    "max_attack = np.max(results['items_properties']['atk_value']['good'])\n",
    "print(\"\")\n",
    "\n",
    "scrolls_dist, num_groves, bad_groves_dist = calculate_statistics(results)\n",
    "print(f\"Number of Groves cost: {num_groves}\")\n",
    "\n",
    "scroll_cost = 0\n",
    "for key, value in scrolls_dist.items():\n",
    "    scroll_i = GROVE_SCROLL_PRICE[NAME_TO_KEY[key]] * value\n",
    "    scroll_cost += scroll_i\n",
    "    print(f\"Number of {key} cost: {value}\")\n",
    "\n",
    "bad_grove_value = 0\n",
    "for key, value in bad_groves_dist.items():\n",
    "    if key in GROVE_ATTACK_PRICE.keys():\n",
    "        bad_grove_value += GROVE_ATTACK_PRICE[key] * value\n",
    "bad_grove_value /= trials\n",
    "print(f\"bad grove value: {bad_grove_value}\")\n",
    "\n",
    "total_cost = scroll_cost + num_groves*item_price\n",
    "print(f\"Total Cost {total_cost}\")\n",
    "print(f\"Actual Price {GROVE_ATTACK_PRICE[str(max_attack)]}\")\n",
    "\n",
    "data = results['items_properties']['atk_value']['good']\n",
    "plot_bar_int(data)"
   ]
  },
  {
   "cell_type": "code",
   "execution_count": 9,
   "id": "ce71f7e3",
   "metadata": {},
   "outputs": [
    {
     "name": "stdout",
     "output_type": "stream",
     "text": [
      "seed: 1758608602\n"
     ]
    },
    {
     "name": "stderr",
     "output_type": "stream",
     "text": [
      "Monte Carlo: 100%|██████████| 100000/100000 [02:24<00:00, 692.91it/s]\n"
     ]
    },
    {
     "name": "stdout",
     "output_type": "stream",
     "text": [
      "\n",
      "Number of Groves cost: 101.71971\n",
      "Number of C_30p_+3_boom50 cost: 3.0284\n",
      "Number of D_70p_+2_boom50 cost: 35.47944\n",
      "Number of A_10p_+3 cost: 101.71971\n",
      "bad grove value: 15341.11\n",
      "Total Cost 385447.55903\n",
      "Actual Price 336000\n"
     ]
    },
    {
     "data": {
      "image/png": "[encoded data removed]",
      "text/plain": [
       "<Figure size 640x480 with 1 Axes>"
      ]
     },
     "metadata": {},
     "output_type": "display_data"
    }
   ],
   "source": [
    "import time\n",
    "seed = int(time.time())\n",
    "print(f\"seed: {seed}\")\n",
    "rng = np.random.default_rng(seed)\n",
    "trials = 100000\n",
    "\n",
    "target = stop_all_success()\n",
    "scroll_list = [\"A\", \"D\", \"D\", \"D\", \"D\", \"D\", \"C\"]\n",
    "strat1 = strategy_fixed_sequence(scroll_list, SCROLL_SET)\n",
    "\n",
    "Procedure = stop_when_fail_or_consume_all_slots(strat1, target, stop_if_fail=True)\n",
    "# Procedure = stop_on_first_fail(strat1, target)\n",
    "item_state = Item(\"BrownGrove\", num_slots=7)\n",
    "results = monte_carlo_mix(rng, trials, item_state, Procedure, properties=[\"atk_value\"])\n",
    "max_attack = np.max(results['items_properties']['atk_value']['good'])\n",
    "print(\"\")\n",
    "\n",
    "scrolls_dist, num_groves, bad_groves_dist = calculate_statistics(results)\n",
    "print(f\"Number of Groves cost: {num_groves}\")\n",
    "\n",
    "scroll_cost = 0\n",
    "for key, value in scrolls_dist.items():\n",
    "    scroll_i = GROVE_SCROLL_PRICE[NAME_TO_KEY[key]] * value\n",
    "    scroll_cost += scroll_i\n",
    "    print(f\"Number of {key} cost: {value}\")\n",
    "\n",
    "bad_grove_value = 0\n",
    "for key, value in bad_groves_dist.items():\n",
    "    if key in GROVE_ATTACK_PRICE.keys():\n",
    "        bad_grove_value += GROVE_ATTACK_PRICE[key] * value\n",
    "bad_grove_value /= trials\n",
    "print(f\"bad grove value: {bad_grove_value}\")\n",
    "\n",
    "total_cost = scroll_cost + num_groves*item_price\n",
    "print(f\"Total Cost {total_cost}\")\n",
    "print(f\"Actual Price {GROVE_ATTACK_PRICE[str(max_attack)]}\")\n",
    "\n",
    "data = results['items_properties']['atk_value']['good']\n",
    "plot_bar_int(data)"
   ]
  },
  {
   "cell_type": "code",
   "execution_count": 11,
   "id": "cce097de",
   "metadata": {},
   "outputs": [
    {
     "name": "stdout",
     "output_type": "stream",
     "text": [
      "seed: 1758609189\n"
     ]
    },
    {
     "name": "stderr",
     "output_type": "stream",
     "text": [
      "Monte Carlo: 100%|██████████| 100000/100000 [05:46<00:00, 288.84it/s]\n"
     ]
    },
    {
     "name": "stdout",
     "output_type": "stream",
     "text": [
      "\n",
      "Number of Groves cost: 238.03031\n",
      "Number of C_30p_+3_boom50 cost: 12.25275\n",
      "Number of D_70p_+2_boom50 cost: 73.84601\n",
      "Number of A_10p_+3 cost: 238.03031\n",
      "bad grove value: 47671.352\n",
      "Total Cost 957911.63573\n",
      "Actual Price 700000\n"
     ]
    },
    {
     "data": {
      "image/png": "[encoded data removed]",
      "text/plain": [
       "<Figure size 640x480 with 1 Axes>"
      ]
     },
     "metadata": {},
     "output_type": "display_data"
    }
   ],
   "source": [
    "import time\n",
    "seed = int(time.time())\n",
    "print(f\"seed: {seed}\")\n",
    "rng = np.random.default_rng(seed)\n",
    "trials = 100000\n",
    "\n",
    "target = stop_all_success()\n",
    "scroll_list = [\"A\", \"D\", \"D\", \"D\", \"D\", \"C\", \"C\"]\n",
    "strat1 = strategy_fixed_sequence(scroll_list, SCROLL_SET)\n",
    "\n",
    "Procedure = stop_when_fail_or_consume_all_slots(strat1, target, stop_if_fail=True)\n",
    "# Procedure = stop_on_first_fail(strat1, target)\n",
    "item_state = Item(\"BrownGrove\", num_slots=7)\n",
    "results = monte_carlo_mix(rng, trials, item_state, Procedure, properties=[\"atk_value\"])\n",
    "max_attack = np.max(results['items_properties']['atk_value']['good'])\n",
    "print(\"\")\n",
    "\n",
    "scrolls_dist, num_groves, bad_groves_dist = calculate_statistics(results)\n",
    "print(f\"Number of Groves cost: {num_groves}\")\n",
    "\n",
    "scroll_cost = 0\n",
    "for key, value in scrolls_dist.items():\n",
    "    scroll_i = GROVE_SCROLL_PRICE[NAME_TO_KEY[key]] * value\n",
    "    scroll_cost += scroll_i\n",
    "    print(f\"Number of {key} cost: {value}\")\n",
    "\n",
    "bad_grove_value = 0\n",
    "for key, value in bad_groves_dist.items():\n",
    "    if key in GROVE_ATTACK_PRICE.keys():\n",
    "        bad_grove_value += GROVE_ATTACK_PRICE[key] * value\n",
    "bad_grove_value /= trials\n",
    "print(f\"bad grove value: {bad_grove_value}\")\n",
    "\n",
    "total_cost = scroll_cost + num_groves*item_price\n",
    "print(f\"Total Cost {total_cost}\")\n",
    "print(f\"Actual Price {GROVE_ATTACK_PRICE[str(max_attack)]}\")\n",
    "\n",
    "data = results['items_properties']['atk_value']['good']\n",
    "plot_bar_int(data)"
   ]
  },
  {
   "cell_type": "code",
   "execution_count": null,
   "id": "15518954",
   "metadata": {},
   "outputs": [
    {
     "name": "stdout",
     "output_type": "stream",
     "text": [
      "seed: 1758609917\n"
     ]
    },
    {
     "name": "stderr",
     "output_type": "stream",
     "text": [
      "Monte Carlo:   3%|▎         | 2527/100000 [01:48<1:12:31, 22.40it/s]Exception ignored in: <bound method IPythonKernel._clean_thread_parent_frames of <ipykernel.ipkernel.IPythonKernel object at 0x75e08375aba0>>\n",
      "Traceback (most recent call last):\n",
      "  File \"/home/tree/miniconda3/envs/MDP/lib/python3.13/site-packages/ipykernel/ipkernel.py\", line 781, in _clean_thread_parent_frames\n",
      "    def _clean_thread_parent_frames(\n",
      "KeyboardInterrupt: \n",
      "Monte Carlo:   3%|▎         | 2696/100000 [01:57<1:06:46, 24.29it/s]"
     ]
    }
   ],
   "source": [
    "import time\n",
    "seed = int(time.time())\n",
    "print(f\"seed: {seed}\")\n",
    "rng = np.random.default_rng(seed)\n",
    "trials = 100000\n",
    "\n",
    "target = stop_all_success()\n",
    "scroll_list = [\"C\", \"C\", \"C\", \"C\", \"C\", \"C\", \"C\"]\n",
    "strat1 = strategy_fixed_sequence(scroll_list, SCROLL_SET)\n",
    "\n",
    "Procedure = stop_when_fail_or_consume_all_slots(strat1, target, stop_if_fail=True)\n",
    "# Procedure = stop_on_first_fail(strat1, target)\n",
    "item_state = Item(\"BrownGrove\", num_slots=7)\n",
    "results = monte_carlo_mix(rng, trials, item_state, Procedure, properties=[\"atk_value\"])\n",
    "max_attack = np.max(results['items_properties']['atk_value']['good'])\n",
    "print(\"\")\n",
    "\n",
    "scrolls_dist, num_groves, bad_groves_dist = calculate_statistics(results)\n",
    "print(f\"Number of Groves cost: {num_groves}\")\n",
    "\n",
    "scroll_cost = 0\n",
    "for key, value in scrolls_dist.items():\n",
    "    scroll_i = GROVE_SCROLL_PRICE[NAME_TO_KEY[key]] * value\n",
    "    scroll_cost += scroll_i\n",
    "    print(f\"Number of {key} cost: {value}\")\n",
    "\n",
    "bad_grove_value = 0\n",
    "for key, value in bad_groves_dist.items():\n",
    "    if key in GROVE_ATTACK_PRICE.keys():\n",
    "        bad_grove_value += GROVE_ATTACK_PRICE[key] * value\n",
    "bad_grove_value /= trials\n",
    "print(f\"bad grove value: {bad_grove_value}\")\n",
    "\n",
    "total_cost = scroll_cost + num_groves*item_price\n",
    "print(f\"Total Cost {total_cost}\")\n",
    "print(f\"Actual Price {GROVE_ATTACK_PRICE[str(max_attack)]}\")\n",
    "\n",
    "data = results['items_properties']['atk_value']['good']\n",
    "plot_bar_int(data)"
   ]
  },
  {
   "cell_type": "code",
   "execution_count": null,
   "id": "596b5635",
   "metadata": {},
   "outputs": [],
   "source": [
    "import time\n",
    "seed = int(time.time())\n",
    "print(f\"seed: {seed}\")\n",
    "rng = np.random.default_rng(seed)\n",
    "trials = 100000\n",
    "\n",
    "target = stop_all_success()\n",
    "scroll_list = [\"A\", \"C\", \"C\", \"C\", \"C\", \"C\", \"C\"]\n",
    "strat1 = strategy_fixed_sequence(scroll_list, SCROLL_SET)\n",
    "\n",
    "Procedure = stop_when_fail_or_consume_all_slots(strat1, target, stop_if_fail=True)\n",
    "# Procedure = stop_on_first_fail(strat1, target)\n",
    "item_state = Item(\"BrownGrove\", num_slots=7)\n",
    "results = monte_carlo_mix(rng, trials, item_state, Procedure, properties=[\"atk_value\"])\n",
    "max_attack = np.max(results['items_properties']['atk_value']['good'])\n",
    "print(\"\")\n",
    "\n",
    "scrolls_dist, num_groves, bad_groves_dist = calculate_statistics(results)\n",
    "print(f\"Number of Groves cost: {num_groves}\")\n",
    "\n",
    "scroll_cost = 0\n",
    "for key, value in scrolls_dist.items():\n",
    "    scroll_i = GROVE_SCROLL_PRICE[NAME_TO_KEY[key]] * value\n",
    "    scroll_cost += scroll_i\n",
    "    print(f\"Number of {key} cost: {value}\")\n",
    "\n",
    "bad_grove_value = 0\n",
    "for key, value in bad_groves_dist.items():\n",
    "    if key in GROVE_ATTACK_PRICE.keys():\n",
    "        bad_grove_value += GROVE_ATTACK_PRICE[key] * value\n",
    "bad_grove_value /= trials\n",
    "print(f\"bad grove value: {bad_grove_value}\")\n",
    "\n",
    "total_cost = scroll_cost + num_groves*item_price\n",
    "print(f\"Total Cost {total_cost}\")\n",
    "print(f\"Actual Price {GROVE_ATTACK_PRICE[str(max_attack)]}\")\n",
    "\n",
    "data = results['items_properties']['atk_value']['good']\n",
    "plot_bar_int(data)"
   ]
  },
  {
   "cell_type": "code",
   "execution_count": null,
   "id": "49859fda",
   "metadata": {},
   "outputs": [],
   "source": [
    "import time\n",
    "seed = int(time.time())\n",
    "print(f\"seed: {seed}\")\n",
    "rng = np.random.default_rng(seed)\n",
    "trials = 100000\n",
    "\n",
    "target = stop_all_success()\n",
    "scroll_list = [\"A\", \"A\", \"C\", \"C\", \"C\", \"C\", \"C\"]\n",
    "strat1 = strategy_fixed_sequence(scroll_list, SCROLL_SET)\n",
    "\n",
    "Procedure = stop_when_fail_or_consume_all_slots(strat1, target, stop_if_fail=True)\n",
    "# Procedure = stop_on_first_fail(strat1, target)\n",
    "item_state = Item(\"BrownGrove\", num_slots=7)\n",
    "results = monte_carlo_mix(rng, trials, item_state, Procedure, properties=[\"atk_value\"])\n",
    "max_attack = np.max(results['items_properties']['atk_value']['good'])\n",
    "print(\"\")\n",
    "\n",
    "scrolls_dist, num_groves, bad_groves_dist = calculate_statistics(results)\n",
    "print(f\"Number of Groves cost: {num_groves}\")\n",
    "\n",
    "scroll_cost = 0\n",
    "for key, value in scrolls_dist.items():\n",
    "    scroll_i = GROVE_SCROLL_PRICE[NAME_TO_KEY[key]] * value\n",
    "    scroll_cost += scroll_i\n",
    "    print(f\"Number of {key} cost: {value}\")\n",
    "\n",
    "bad_grove_value = 0\n",
    "for key, value in bad_groves_dist.items():\n",
    "    if key in GROVE_ATTACK_PRICE.keys():\n",
    "        bad_grove_value += GROVE_ATTACK_PRICE[key] * value\n",
    "bad_grove_value /= trials\n",
    "print(f\"bad grove value: {bad_grove_value}\")\n",
    "\n",
    "total_cost = scroll_cost + num_groves*item_price\n",
    "print(f\"Total Cost {total_cost}\")\n",
    "print(f\"Actual Price {GROVE_ATTACK_PRICE[str(max_attack)]}\")\n",
    "\n",
    "data = results['items_properties']['atk_value']['good']\n",
    "plot_bar_int(data)"
   ]
  },
  {
   "cell_type": "code",
   "execution_count": null,
   "id": "b44619d2",
   "metadata": {},
   "outputs": [],
   "source": [
    "import time\n",
    "seed = int(time.time())\n",
    "print(f\"seed: {seed}\")\n",
    "rng = np.random.default_rng(seed)\n",
    "trials = 100000\n",
    "\n",
    "target = stop_all_success()\n",
    "scroll_list = [\"A\", \"A\", \"A\", \"C\", \"C\", \"C\", \"C\"]\n",
    "strat1 = strategy_fixed_sequence(scroll_list, SCROLL_SET)\n",
    "\n",
    "Procedure = stop_when_fail_or_consume_all_slots(strat1, target, stop_if_fail=True)\n",
    "# Procedure = stop_on_first_fail(strat1, target)\n",
    "item_state = Item(\"BrownGrove\", num_slots=7)\n",
    "results = monte_carlo_mix(rng, trials, item_state, Procedure, properties=[\"atk_value\"])\n",
    "max_attack = np.max(results['items_properties']['atk_value']['good'])\n",
    "print(\"\")\n",
    "\n",
    "scrolls_dist, num_groves, bad_groves_dist = calculate_statistics(results)\n",
    "print(f\"Number of Groves cost: {num_groves}\")\n",
    "\n",
    "scroll_cost = 0\n",
    "for key, value in scrolls_dist.items():\n",
    "    scroll_i = GROVE_SCROLL_PRICE[NAME_TO_KEY[key]] * value\n",
    "    scroll_cost += scroll_i\n",
    "    print(f\"Number of {key} cost: {value}\")\n",
    "\n",
    "bad_grove_value = 0\n",
    "for key, value in bad_groves_dist.items():\n",
    "    if key in GROVE_ATTACK_PRICE.keys():\n",
    "        bad_grove_value += GROVE_ATTACK_PRICE[key] * value\n",
    "bad_grove_value /= trials\n",
    "print(f\"bad grove value: {bad_grove_value}\")\n",
    "\n",
    "total_cost = scroll_cost + num_groves*item_price\n",
    "print(f\"Total Cost {total_cost}\")\n",
    "print(f\"Actual Price {GROVE_ATTACK_PRICE[str(max_attack)]}\")\n",
    "\n",
    "data = results['items_properties']['atk_value']['good']\n",
    "plot_bar_int(data)"
   ]
  },
  {
   "cell_type": "code",
   "execution_count": 10,
   "id": "e892e1ed",
   "metadata": {},
   "outputs": [],
   "source": [
    "# data = results['items_properties']['atk_value']['good']\n",
    "# plot_bar_int(data)\n",
    "\n",
    "# # data = results['scrolls_distribution']['D_70p_+2_boom50']\n",
    "# # plot_cdf_pdf(data, \"Scrolls D-D-D-D-D-D-D\")\n",
    "\n",
    "# plot_cdf_pdf(results['items_distribution'], \"Groves D-D-D-D-D-D-D\")"
   ]
  },
  {
   "cell_type": "code",
   "execution_count": null,
   "id": "62064fef",
   "metadata": {},
   "outputs": [],
   "source": []
  }
 ],
 "metadata": {
  "kernelspec": {
   "display_name": "MDP",
   "language": "python",
   "name": "python3"
  },
  "language_info": {
   "codemirror_mode": {
    "name": "ipython",
    "version": 3
   },
   "file_extension": ".py",
   "mimetype": "text/x-python",
   "name": "python",
   "nbconvert_exporter": "python",
   "pygments_lexer": "ipython3",
   "version": "3.13.7"
  }
 },
 "nbformat": 4,
 "nbformat_minor": 5
}
