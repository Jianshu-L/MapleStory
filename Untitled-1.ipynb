{
 "cells": [
  {
   "cell_type": "code",
   "execution_count": 1,
   "id": "2d732856",
   "metadata": {},
   "outputs": [],
   "source": [
    "import numpy as np"
   ]
  },
  {
   "cell_type": "code",
   "execution_count": null,
   "id": "b70419e5",
   "metadata": {},
   "outputs": [],
   "source": [
    "# 我想写一个模拟来寻找最佳的砸卷方式，一个装备可以升级若干次，每次升级都通过砸卷的方式，卷轴有两种，一种成功率10%，一种成功率60%，无论成功与否都消耗一次升级次数。\n",
    "# 我想加入混合砸卷的功能，去考察各种混合砸卷的卷轴消耗数和装备消耗数\n",
    "\n",
    "# 20001: 10% 短剑攻击 +5g +3y 270W\n",
    "# 20002: 60% 短剑攻击 +3g +1y 4W\n",
    "# 20003: 10% 弓攻击 +5g +1m\n",
    "# 20004: 60% 弓攻击 +3g\n",
    "# 双古剑：74g 2y 35W, max 79g 8y, ave 72g\n",
    "\n",
    "def scroll_properties(scroll_type: str):\n",
    "    g = 0\n",
    "    y = 0\n",
    "    m = 0\n",
    "    scroll_rates = np.nan\n",
    "    if scroll_type == 20001:\n",
    "        scroll_rates = 0.1\n",
    "        g = 5\n",
    "        y = 3\n",
    "    \n",
    "    if scroll_type == 20002:\n",
    "        scroll_rates = 0.6\n",
    "        g = 3\n",
    "        y = 1\n",
    "\n",
    "    if scroll_type == 20003:\n",
    "        scroll_rates = 0.1\n",
    "        g = 5\n",
    "        m = 1\n",
    "\n",
    "    if scroll_type == 20004:\n",
    "        scroll_rates = 0.6\n",
    "        g = 3\n",
    "\n",
    "    if np.isnan(scroll_rates):\n",
    "        raise ValueError(\"Wrong Scroll Type\")\n",
    "\n",
    "    return scroll_rates, g, y, m\n",
    "\n",
    "import random\n",
    "def check_success(scroll_rates: float):\n",
    "    return 1 if random.random() < scroll_rates else 0"
   ]
  },
  {
   "cell_type": "code",
   "execution_count": 129,
   "id": "8bd4dfd7",
   "metadata": {},
   "outputs": [],
   "source": [
    "from statistics import mean\n",
    "from numpy.random import default_rng, Generator\n",
    "\n",
    "def simulate_one_item(rng: Generator, success_p=0.6, upgrades=7, next_item_if_fail=False, ):\n",
    "    \"\"\"\n",
    "    模拟单件装备从0开始做完 upgrades 次升级尝试。\n",
    "    返回是否达成“全部成功”的目标，以及本件装备消耗的卷轴数（恒为 upgrades）。\n",
    "    \"\"\"\n",
    "    successes = 0\n",
    "    for _ in range(upgrades):\n",
    "        if rng.random() < success_p:\n",
    "            successes += 1\n",
    "        else:\n",
    "            if next_item_if_fail:\n",
    "                break\n",
    "    # 目标：7次尝试全部成功\n",
    "    return (successes == upgrades), successes\n",
    "\n",
    "def simulate_until_one_perfect(rng: Generator, success_p=0.6, upgrades=7, next_item_if_fail=False):\n",
    "    \"\"\"\n",
    "    不断制作新装备，直到获得一件“全部成功”的装备。\n",
    "    返回：\n",
    "      total_scrolls: 总卷轴消耗\n",
    "      total_items: 总装备消耗（包含失败的与最终成功的）\n",
    "    \"\"\"\n",
    "    total_scrolls = 0\n",
    "    total_items = 0\n",
    "    items_property = []\n",
    "    while True:\n",
    "        total_items += 1\n",
    "        ok, num_success = simulate_one_item(rng, success_p, upgrades, next_item_if_fail)\n",
    "        if next_item_if_fail:\n",
    "            if ok:\n",
    "                total_scrolls += upgrades\n",
    "            else:\n",
    "                total_scrolls += (num_success+1)\n",
    "        else:\n",
    "            total_scrolls += upgrades\n",
    "\n",
    "        items_property.append(num_success)\n",
    "        if ok:\n",
    "            return total_scrolls, total_items, items_property\n",
    "\n",
    "def monte_carlo(rng: Generator, trials=10000, success_p=0.6, upgrades=7, next_item_if_fail=False):\n",
    "    scrolls_consume = []\n",
    "    items_consume = []\n",
    "    items_property = []\n",
    "    for _ in range(trials):\n",
    "        s, i, p = simulate_until_one_perfect(rng, success_p, upgrades, next_item_if_fail)\n",
    "        scrolls_consume.append(s)\n",
    "        items_consume.append(i)\n",
    "        items_property.append(p)\n",
    "    # print(f\"avg_scrolls: {mean(scrolls_consume)}\")\n",
    "    # print(f\"avg_items: {mean(items_consume)}\")\n",
    "    # print(f\"min_scrolls: {min(scrolls_consume)}\")\n",
    "    # print(f\"max_scrolls: {max(scrolls_consume)}\")\n",
    "    # print(f\"min_items: {min(items_consume)}\")\n",
    "    # print(f\"max_items: {max(items_consume)}\")\n",
    "    return {\"scrolls_consume\": scrolls_consume, \n",
    "            \"items_consume\": items_consume,\n",
    "            \"items_property\": items_property}"
   ]
  },
  {
   "cell_type": "code",
   "execution_count": null,
   "id": "29b65d54",
   "metadata": {},
   "outputs": [],
   "source": [
    "def plus_one(trials=10000, upgrades=7, next_item_if_fail=True, seed=2025):\n",
    "    result = {\n",
    "        \"scrolls_consume\": [],\n",
    "        \"items_consume\": [],\n",
    "        \"items_property\": []\n",
    "    }\n",
    "\n",
    "    rng = default_rng(seed)\n",
    "    result_i = monte_carlo(rng, trials=trials, success_p=0.6, upgrades=upgrades-1, next_item_if_fail=next_item_if_fail)\n",
    "    total_items = []\n",
    "    for _ in range(int(trials/100)):\n",
    "        for trial_i in range(trials):\n",
    "            for key,value in result_i.items():\n",
    "                result[key].append(value[trial_i])\n",
    "\n",
    "            ok, num_success = simulate_one_item(rng, 0.1, 1, next_item_if_fail)\n",
    "            if ok:\n",
    "                total_items.append(trial_i)\n",
    "                break\n",
    "\n",
    "    return total_items"
   ]
  },
  {
   "cell_type": "code",
   "execution_count": null,
   "id": "e156140a",
   "metadata": {},
   "outputs": [
    {
     "name": "stdout",
     "output_type": "stream",
     "text": [
      "Total Consume: scrolls: 85.3, items: 35.1\n",
      "Total Paid: 1568.34, scrolls: 341.06, items: 1227.28\n",
      "85g, 9y\n"
     ]
    }
   ],
   "source": [
    "seed = 2025\n",
    "rng = default_rng(seed)\n",
    "result = monte_carlo(rng=rng, trials=10000, success_p=0.6, upgrades=7, next_item_if_fail=True)\n",
    "\n",
    "# 20001: 10% 短剑攻击 +5g +3y 270W\n",
    "# 20002: 60% 短剑攻击 +3g +1y 4W\n",
    "# 双古剑：74g 2y 35W, max 79g 8y, ave 72g\n",
    "# 金龙振翅弓：95-110g，需要115power，285ag，102g 300W\n",
    "\n",
    "scroll_price = 4\n",
    "item_price = 35\n",
    "\n",
    "scroll_paid = np.mean(result['scrolls_consume'])*scroll_price\n",
    "item_paid = np.mean(result['items_consume'])*item_price\n",
    "print(f\"Total Consume: scrolls: {np.mean(result['scrolls_consume']):.1f}, items: {np.mean(result['items_consume']):.1f}\")\n",
    "print(f\"Total Paid: {scroll_paid+item_paid:.2f}, scrolls: {scroll_paid:.2f}, items: {item_paid:.2f}\")\n",
    "print(\"85g, 9y\")"
   ]
  },
  {
   "cell_type": "code",
   "execution_count": 138,
   "id": "0d0579ff",
   "metadata": {},
   "outputs": [],
   "source": [
    "result, total_ok = plus_one(trials=10000, upgrades=7, seed=2025, next_item_if_fail=True)"
   ]
  },
  {
   "cell_type": "code",
   "execution_count": 139,
   "id": "a25ffbec",
   "metadata": {},
   "outputs": [
    {
     "data": {
      "text/plain": [
       "1024"
      ]
     },
     "execution_count": 139,
     "metadata": {},
     "output_type": "execute_result"
    }
   ],
   "source": [
    "np.sum(total_ok)"
   ]
  },
  {
   "cell_type": "code",
   "execution_count": null,
   "id": "96dd0072",
   "metadata": {},
   "outputs": [],
   "source": []
  },
  {
   "cell_type": "code",
   "execution_count": 214,
   "id": "c80ee351",
   "metadata": {},
   "outputs": [
    {
     "name": "stdout",
     "output_type": "stream",
     "text": [
      "Total Consume: scrolls: 50.4, items: 21.1\n",
      "Total Paid: 941.37, scrolls: 201.79, items: 739.57\n",
      "85g, 9y\n"
     ]
    }
   ],
   "source": [
    "# 20001: 10% 短剑攻击 +5g +3y 270W\n",
    "# 20002: 60% 短剑攻击 +3g +1y 4W\n",
    "# 双古剑：74g 2y 35W, max 79g 8y, ave 72g\n",
    "\n",
    "scroll_price = 4\n",
    "item_price = 35\n",
    "\n",
    "scroll_paid = np.mean(result['scrolls_consume'])*scroll_price\n",
    "item_paid = np.mean(result['items_consume'])*item_price\n",
    "print(f\"Total Consume: scrolls: {np.mean(result['scrolls_consume']):.1f}, items: {np.mean(result['items_consume']):.1f}\")\n",
    "print(f\"Total Paid: {scroll_paid+item_paid:.2f}, scrolls: {scroll_paid:.2f}, items: {item_paid:.2f}\")\n",
    "print(\"85g, 9y\")"
   ]
  },
  {
   "cell_type": "code",
   "execution_count": null,
   "id": "5c3421bf",
   "metadata": {},
   "outputs": [],
   "source": []
  },
  {
   "cell_type": "code",
   "execution_count": 145,
   "id": "4aca6514",
   "metadata": {},
   "outputs": [],
   "source": [
    "def calculate_damage(lucky:int, agility:int, power:int, attack:int):\n",
    "    return int((lucky*3.6+agility+power)*attack/100)"
   ]
  },
  {
   "cell_type": "code",
   "execution_count": 194,
   "id": "75591ea7",
   "metadata": {},
   "outputs": [],
   "source": [
    "def all_lucky_damage(level, total_attack):\n",
    "    total_ability = level*5\n",
    "    return calculate_damage(total_ability+4, 4, 4, total_attack)"
   ]
  },
  {
   "cell_type": "code",
   "execution_count": 195,
   "id": "63c17d9e",
   "metadata": {},
   "outputs": [],
   "source": [
    "add_damage = 0\n",
    "weapon_damage = 88\n",
    "grove_damage = 10\n",
    "shield_damage = 10\n",
    "total_attack = weapon_damage+grove_damage+shield_damage+add_damage\n",
    "\n",
    "level = 120\n",
    "base_damage = all_lucky_damage(level, total_attack)"
   ]
  },
  {
   "cell_type": "code",
   "execution_count": 212,
   "id": "9dc6d42c",
   "metadata": {},
   "outputs": [],
   "source": [
    "add_damage = 0\n",
    "weapon_damage = 116\n",
    "grove_damage = 10\n",
    "shield_damage = 10\n",
    "total_attack = weapon_damage+grove_damage+shield_damage+add_damage\n",
    "\n",
    "level = 120\n",
    "total_ability = level*5\n",
    "ag = 150\n",
    "\n",
    "damage = {\n",
    "    \"damage\": [],\n",
    "    \"add_damage\": [],\n",
    "    \"add_ability\": []\n",
    "}\n",
    "for add_damage in range(0,50,5):\n",
    "    base_damage = all_lucky_damage(level, 108+add_damage)\n",
    "    for add_ability in range(0,200,10):\n",
    "        now_damage = calculate_damage(total_ability-ag+4+add_ability, 4+ag, 4, total_attack+add_damage)\n",
    "        if now_damage < base_damage:\n",
    "            damage['damage'].append(now_damage)\n",
    "            damage[\"add_damage\"].append(add_damage)\n",
    "            damage[\"add_ability\"].append(add_ability)"
   ]
  },
  {
   "cell_type": "code",
   "execution_count": 213,
   "id": "cbf37538",
   "metadata": {},
   "outputs": [
    {
     "name": "stdout",
     "output_type": "stream",
     "text": [
      "[25, 30, 35, 40, 40, 45, 45]\n",
      "[0, 0, 0, 0, 10, 0, 10]\n"
     ]
    }
   ],
   "source": [
    "print(damage[\"add_damage\"])\n",
    "print(damage[\"add_ability\"])"
   ]
  },
  {
   "cell_type": "code",
   "execution_count": null,
   "id": "00e6c45c",
   "metadata": {},
   "outputs": [],
   "source": []
  },
  {
   "cell_type": "code",
   "execution_count": null,
   "id": "be259e90",
   "metadata": {},
   "outputs": [],
   "source": []
  },
  {
   "cell_type": "code",
   "execution_count": null,
   "id": "08d43233",
   "metadata": {},
   "outputs": [],
   "source": []
  },
  {
   "cell_type": "code",
   "execution_count": null,
   "id": "b78aa380",
   "metadata": {},
   "outputs": [],
   "source": []
  },
  {
   "cell_type": "code",
   "execution_count": null,
   "id": "cfa5dcdd",
   "metadata": {},
   "outputs": [],
   "source": []
  },
  {
   "cell_type": "code",
   "execution_count": null,
   "id": "597c6017",
   "metadata": {},
   "outputs": [
    {
     "name": "stdout",
     "output_type": "stream",
     "text": [
      "108, Lucky:604\n",
      "2356\n"
     ]
    }
   ],
   "source": [
    "# 双古剑：74g 2y 35W, max 79g 8y, ave 72g\n",
    "# 蝉翼龙牙破：93-108g，需要150ag，118g 2000W\n",
    "# 金龙振翅弓：95-110g，需要115power，285ag，102g 300W\n",
    "add_damage = 0\n",
    "weapon_lucky = 9\n",
    "weapon_damage = 88\n",
    "grove_damage = 10\n",
    "shield_damage = 10\n",
    "total_attack = weapon_damage+grove_damage+shield_damage+add_damage\n",
    "\n",
    "level = 120\n",
    "total_ability = level*5\n",
    "ag = 0\n",
    "power = 0\n",
    "print(f\"{total_damage}, Lucky:{total_ability-ag-power+4}\")\n",
    "print(calculate_damage(total_ability-ag-power+4, 4+ag, 4+power, total_damage))"
   ]
  },
  {
   "cell_type": "code",
   "execution_count": 193,
   "id": "88bcf071",
   "metadata": {},
   "outputs": [
    {
     "name": "stdout",
     "output_type": "stream",
     "text": [
      "136, Lucky:626\n",
      "3279\n"
     ]
    }
   ],
   "source": [
    "add_damage = 0\n",
    "weapon_lucky = 9\n",
    "weapon_damage = 116\n",
    "grove_damage = 10\n",
    "shield_damage = 10\n",
    "total_damage = weapon_damage+grove_damage+shield_damage+add_damage\n",
    "\n",
    "add_ability = (25+30)+5+2+30*2+14*2+5*2+4+1*2+3*2\n",
    "level = 120\n",
    "total_ability = level*5+add_ability\n",
    "ag = 150\n",
    "print(f\"{total_damage}, Lucky:{total_ability-ag-power+4}\")\n",
    "print(calculate_damage(total_ability-ag-power+4, 4+ag, 4+power, total_damage))"
   ]
  },
  {
   "cell_type": "code",
   "execution_count": null,
   "id": "dd74ca57",
   "metadata": {},
   "outputs": [],
   "source": []
  },
  {
   "cell_type": "code",
   "execution_count": null,
   "id": "31f7abbd",
   "metadata": {},
   "outputs": [],
   "source": []
  }
 ],
 "metadata": {
  "kernelspec": {
   "display_name": "myenv",
   "language": "python",
   "name": "python3"
  },
  "language_info": {
   "codemirror_mode": {
    "name": "ipython",
    "version": 3
   },
   "file_extension": ".py",
   "mimetype": "text/x-python",
   "name": "python",
   "nbconvert_exporter": "python",
   "pygments_lexer": "ipython3",
   "version": "3.9.20"
  }
 },
 "nbformat": 4,
 "nbformat_minor": 5
}
