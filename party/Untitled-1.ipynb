{
 "cells": [
  {
   "cell_type": "code",
   "execution_count": 1,
   "id": "bc95b9c0",
   "metadata": {},
   "outputs": [
    {
     "name": "stdout",
     "output_type": "stream",
     "text": [
      "Warnings: []\n",
      "Errors: []\n",
      "Unmapped: ['4. 柠檬-105勇士 求母本', '6. 给糖就约-140龙骑 单挂', '29. 倩倩子-120奶  单挂，需要一个杯子', '33. 冰封de记忆 冰雷 单挂，需求扎头杯子']\n",
      "Invalid: []\n",
      "Leftover: {}\n"
     ]
    }
   ],
   "source": [
    "import numpy as np\n",
    "import pandas as pd\n",
    "from run import map_today_ids, MappingSource, build_index, GroupReport\n",
    "\n",
    "def get_key_by_value(d, value):\n",
    "    return [k for k, v in d.items() if v == value]\n",
    "\n",
    "df = pd.read_csv(\"repo.csv\")\n",
    "id = df.id.tolist()\n",
    "job = df.job.tolist()\n",
    "job_type = df.job_type.tolist()\n",
    "\n",
    "ms = MappingSource(\n",
    "ids=id,                # 你的主数据 id 列表\n",
    "jobs=job,              # 可不使用但可保留\n",
    "job_types=job_type,    # 与 id 对齐的职业类型\n",
    ")\n",
    "index_map = build_index(ms)\n",
    "\n",
    "report = GroupReport()\n",
    "today_maps = map_today_ids(\"temp.csv\", index_map, report)\n",
    "\n",
    "# 问题汇总\n",
    "print(\"Warnings:\", report.warnings)\n",
    "print(\"Errors:\", report.errors)\n",
    "print(\"Unmapped:\", report.unmapped_ids)\n",
    "print(\"Invalid:\", report.invalid_ids)\n",
    "print(\"Leftover:\", report.leftover_buckets)"
   ]
  },
  {
   "cell_type": "code",
   "execution_count": 2,
   "id": "497f839b",
   "metadata": {},
   "outputs": [],
   "source": [
    "today_members = {}\n",
    "for job_i in np.unique(list(today_maps.values())):\n",
    "    if not job_i:\n",
    "        key = \"单挂\"\n",
    "    else:\n",
    "        key = str(job_i)\n",
    "\n",
    "    today_members[key] = get_key_by_value(today_maps, job_i)"
   ]
  },
  {
   "cell_type": "code",
   "execution_count": 3,
   "id": "98323f98",
   "metadata": {},
   "outputs": [
    {
     "data": {
      "text/plain": [
       "dict_keys(['单挂', '刀', '圣骑', '奶', '弓', '弩', '拳', '标', '火', '船', '饺子'])"
      ]
     },
     "execution_count": 3,
     "metadata": {},
     "output_type": "execute_result"
    }
   ],
   "source": [
    "today_members.keys()"
   ]
  },
  {
   "cell_type": "code",
   "execution_count": 4,
   "id": "c94aa350",
   "metadata": {},
   "outputs": [],
   "source": [
    "from openpyxl import load_workbook\n",
    "from datetime import datetime\n",
    "import string\n",
    "\n",
    "letters = string.ascii_uppercase\n",
    "job_order = [\"奶\", \"火\", '圣骑', '拳', '弩', '船', '饺子', '刀']\n",
    "\n",
    "# 1) 载入模板\n",
    "wb = load_workbook(\"一条分组.xlsx\")\n",
    "ws = wb[\"Sheet1\"]  # 替换为你的工作表名\n",
    "\n",
    "# 2) 写入文件\n",
    "now = datetime.now()\n",
    "\n",
    "last_index = len(job_order)-1\n",
    "for job, id_list in today_members.items():\n",
    "    if job == \"单挂\":\n",
    "        continue\n",
    "\n",
    "    if job in job_order:\n",
    "        i = job_order.index(job)\n",
    "    else:\n",
    "        last_index += 1\n",
    "        i = last_index\n",
    "\n",
    "    ws[f'{letters[0]}{i+1}'].value = job\n",
    "\n",
    "    for id_i, id in enumerate(id_list):\n",
    "        ws[f'{letters[id_i+1]}{i+1}'].value = id\n",
    "\n",
    "job = \"单挂\"\n",
    "ws[f'{letters[0]}{last_index+1}'].value = job\n",
    "\n",
    "id_list = today_members[job]\n",
    "for id_i, id in enumerate(id_list):\n",
    "    ws[f'{letters[id_i+1]}{last_index+1}'].value = id"
   ]
  },
  {
   "cell_type": "code",
   "execution_count": 16,
   "id": "90018aa2",
   "metadata": {},
   "outputs": [
    {
     "name": "stdout",
     "output_type": "stream",
     "text": [
      "|:-----|:-----------------------|:-------------------------|:-------------------------------------|:---------------------------------------|:---------|:-------|\n",
      "| 奶   | 义气丶奶               | as                       | 千万恶霸                             | 战斗猫                                 |          |        |\n",
      "| 火   | 森贝尔嫩               | 声微饭否                 | 强人锁男                             |                                        |          |        |\n",
      "| 圣骑 | 章章浩                 | 日落沙滩前               | 一天也                               |                                        |          |        |\n",
      "| 拳   | 阿树                   | 莉莎长高高               | 霍家拳                               |                                        |          |        |\n",
      "| 弩   | 点恋线                 |                          |                                      |                                        |          |        |\n",
      "| 船   | 朗姆                   | 穷到捡破烂               |                                      |                                        |          |        |\n",
      "| 饺子 | 浪客阿文               | 厉飞羽                   |                                      |                                        |          |        |\n",
      "| 刀   | 滴滴叭叭               | Cris                     | 菜叶子                               | 暗影灬                                 | 无敌铁锅 |        |\n",
      "| 弓   | 枇杷树                 | Nemo尼莫                 | 鱼儿爱看雪                           | 怪力                                   | Hoyt     | 与小女 |\n",
      "| 单挂 | 4. 柠檬-105勇士 求母本 | 6. 给糖就约-140龙骑 单挂 | 29. 倩倩子-120奶  单挂，需要一个杯子 | 33. 冰封de记忆 冰雷 单挂，需求扎头杯子 |          |        |\n"
     ]
    }
   ],
   "source": [
    "from tabulate import tabulate \n",
    "# Convert sheet data into list of rows\n",
    "data = list(ws.values)\n",
    "\n",
    "# Print nicely formatted table\n",
    "print(tabulate(data, headers=\"\", tablefmt=\"pipe\"))"
   ]
  },
  {
   "cell_type": "code",
   "execution_count": null,
   "id": "9269735b",
   "metadata": {},
   "outputs": [],
   "source": []
  },
  {
   "cell_type": "code",
   "execution_count": 6,
   "id": "e92af432",
   "metadata": {},
   "outputs": [],
   "source": [
    "from run import ms, build_index, map_today_ids, bucket_by_job_type, GroupReport, find_contain_index"
   ]
  },
  {
   "cell_type": "code",
   "execution_count": 2,
   "id": "c9d6b2c7",
   "metadata": {},
   "outputs": [],
   "source": [
    "report = GroupReport()\n",
    "index_map = build_index(ms)\n",
    "\n",
    "today_map = map_today_ids(\"temp.csv\", index_map, report)\n",
    "buckets = bucket_by_job_type(today_map)"
   ]
  },
  {
   "cell_type": "code",
   "execution_count": null,
   "id": "d463141f",
   "metadata": {},
   "outputs": [],
   "source": [
    "def get_job_from_pid(today_pids: list, )\n",
    "repo_id = list(index_map.keys())\n",
    "repo_jobs = [i[0] for i in index_map.values()]\n",
    "\n",
    "buckets_job = []\n",
    "for index, pid in enumerate(today_pids):\n",
    "    index_list = find_contain_index(repo_id, pid)\n",
    "    buckets_job.append(repo_jobs[index])"
   ]
  },
  {
   "cell_type": "code",
   "execution_count": 3,
   "id": "58cb524b",
   "metadata": {},
   "outputs": [
    {
     "data": {
      "text/plain": [
       "dict_keys(['奶', '近战', '眼', '远程', '拳', '火', ''])"
      ]
     },
     "execution_count": 3,
     "metadata": {},
     "output_type": "execute_result"
    }
   ],
   "source": [
    "buckets.keys()"
   ]
  },
  {
   "cell_type": "code",
   "execution_count": null,
   "id": "3da734a2",
   "metadata": {},
   "outputs": [],
   "source": []
  },
  {
   "cell_type": "code",
   "execution_count": null,
   "id": "4866d430",
   "metadata": {},
   "outputs": [],
   "source": []
  },
  {
   "cell_type": "code",
   "execution_count": 59,
   "id": "851c241e",
   "metadata": {},
   "outputs": [],
   "source": [
    "import pandas as pd\n",
    "df = pd.DataFrame({\"ids\": ms.ids, \"jobs\": ms.jobs, \"job_types\": ms.job_types})"
   ]
  },
  {
   "cell_type": "code",
   "execution_count": null,
   "id": "f06efb3f",
   "metadata": {},
   "outputs": [],
   "source": [
    "meng_xin = [Nemo尼莫, Hoyt, 枇杷树, 点恋线, 铅笔笔拳, timemei, 强人锁男, 冰峡江月, 声微饭否, 猫猫爱金币, 朗姆柠梨, 小颖宝, 青哦苹果, 千万恶霸, 义气丶奶]\n",
    "help_meng_xin = [怪力, 滴滴叭叭, Flash936, 白菜飞]"
   ]
  },
  {
   "cell_type": "code",
   "execution_count": 70,
   "id": "e3f49b21",
   "metadata": {},
   "outputs": [
    {
     "data": {
      "text/html": [
       "<div>\n",
       "<style scoped>\n",
       "    .dataframe tbody tr th:only-of-type {\n",
       "        vertical-align: middle;\n",
       "    }\n",
       "\n",
       "    .dataframe tbody tr th {\n",
       "        vertical-align: top;\n",
       "    }\n",
       "\n",
       "    .dataframe thead th {\n",
       "        text-align: right;\n",
       "    }\n",
       "</style>\n",
       "<table border=\"1\" class=\"dataframe\">\n",
       "  <thead>\n",
       "    <tr style=\"text-align: right;\">\n",
       "      <th></th>\n",
       "      <th>ids</th>\n",
       "      <th>job_types</th>\n",
       "    </tr>\n",
       "    <tr>\n",
       "      <th>jobs</th>\n",
       "      <th></th>\n",
       "      <th></th>\n",
       "    </tr>\n",
       "  </thead>\n",
       "  <tbody>\n",
       "    <tr>\n",
       "      <th>冰雷</th>\n",
       "      <td>[天天酱, 冰封de记忆]</td>\n",
       "      <td>[冰雷, 冰雷]</td>\n",
       "    </tr>\n",
       "    <tr>\n",
       "      <th>刀</th>\n",
       "      <td>[滴滴叭叭, 无敌铁锅, Cris, 暗影灬, 白菜飞, Flash936, 进击的大腿]</td>\n",
       "      <td>[近战, 近战, 近战, 近战, 近战, 近战, 近战]</td>\n",
       "    </tr>\n",
       "    <tr>\n",
       "      <th>圣骑</th>\n",
       "      <td>[日落沙滩前]</td>\n",
       "      <td>[近战]</td>\n",
       "    </tr>\n",
       "    <tr>\n",
       "      <th>奶</th>\n",
       "      <td>[千万恶霸, 义气丶奶, 小颖宝, 青哦苹果, 小手很烫]</td>\n",
       "      <td>[奶, 奶, 奶, 奶, 奶]</td>\n",
       "    </tr>\n",
       "    <tr>\n",
       "      <th>弓</th>\n",
       "      <td>[Nemo尼莫, Hoyt, 枇杷树, 羽寒, 怪力, 越前小憋, 鱼儿爱看雪, 亚太首席技师]</td>\n",
       "      <td>[眼, 眼, 眼, 眼, 眼, 眼, 眼, 眼]</td>\n",
       "    </tr>\n",
       "    <tr>\n",
       "      <th>弩</th>\n",
       "      <td>[点恋线, 桥本奈奈未]</td>\n",
       "      <td>[眼, 眼]</td>\n",
       "    </tr>\n",
       "    <tr>\n",
       "      <th>拳</th>\n",
       "      <td>[阿树, 铅笔笔拳]</td>\n",
       "      <td>[拳, 拳]</td>\n",
       "    </tr>\n",
       "    <tr>\n",
       "      <th>标</th>\n",
       "      <td>[timemei, 喃]</td>\n",
       "      <td>[远程, 远程]</td>\n",
       "    </tr>\n",
       "    <tr>\n",
       "      <th>火</th>\n",
       "      <td>[强人锁男, 冰峡江月, Lancer, 声微饭否, 情人游天地, 一天也]</td>\n",
       "      <td>[火, 火, 火, 火, 火, 火]</td>\n",
       "    </tr>\n",
       "    <tr>\n",
       "      <th>火毒</th>\n",
       "      <td>[猫猫爱金币]</td>\n",
       "      <td>[近战]</td>\n",
       "    </tr>\n",
       "    <tr>\n",
       "      <th>船</th>\n",
       "      <td>[朗姆柠梨]</td>\n",
       "      <td>[远程]</td>\n",
       "    </tr>\n",
       "    <tr>\n",
       "      <th>饺子</th>\n",
       "      <td>[厉飞羽]</td>\n",
       "      <td>[近战]</td>\n",
       "    </tr>\n",
       "  </tbody>\n",
       "</table>\n",
       "</div>"
      ],
      "text/plain": [
       "                                                   ids  \\\n",
       "jobs                                                     \n",
       "冰雷                                       [天天酱, 冰封de记忆]   \n",
       "刀        [滴滴叭叭, 无敌铁锅, Cris, 暗影灬, 白菜飞, Flash936, 进击的大腿]   \n",
       "圣骑                                             [日落沙滩前]   \n",
       "奶                        [千万恶霸, 义气丶奶, 小颖宝, 青哦苹果, 小手很烫]   \n",
       "弓     [Nemo尼莫, Hoyt, 枇杷树, 羽寒, 怪力, 越前小憋, 鱼儿爱看雪, 亚太首席技师]   \n",
       "弩                                         [点恋线, 桥本奈奈未]   \n",
       "拳                                           [阿树, 铅笔笔拳]   \n",
       "标                                         [timemei, 喃]   \n",
       "火               [强人锁男, 冰峡江月, Lancer, 声微饭否, 情人游天地, 一天也]   \n",
       "火毒                                             [猫猫爱金币]   \n",
       "船                                               [朗姆柠梨]   \n",
       "饺子                                               [厉飞羽]   \n",
       "\n",
       "                         job_types  \n",
       "jobs                                \n",
       "冰雷                        [冰雷, 冰雷]  \n",
       "刀     [近战, 近战, 近战, 近战, 近战, 近战, 近战]  \n",
       "圣骑                            [近战]  \n",
       "奶                  [奶, 奶, 奶, 奶, 奶]  \n",
       "弓         [眼, 眼, 眼, 眼, 眼, 眼, 眼, 眼]  \n",
       "弩                           [眼, 眼]  \n",
       "拳                           [拳, 拳]  \n",
       "标                         [远程, 远程]  \n",
       "火               [火, 火, 火, 火, 火, 火]  \n",
       "火毒                            [近战]  \n",
       "船                             [远程]  \n",
       "饺子                            [近战]  "
      ]
     },
     "execution_count": 70,
     "metadata": {},
     "output_type": "execute_result"
    }
   ],
   "source": [
    "df.groupby(\"jobs\")[[\"ids\", \"job_types\"]].agg(list)"
   ]
  },
  {
   "cell_type": "code",
   "execution_count": null,
   "id": "27a2fef8",
   "metadata": {},
   "outputs": [],
   "source": []
  },
  {
   "cell_type": "code",
   "execution_count": null,
   "id": "88f19dc5",
   "metadata": {},
   "outputs": [],
   "source": []
  },
  {
   "cell_type": "code",
   "execution_count": null,
   "id": "85f10de1",
   "metadata": {},
   "outputs": [
    {
     "ename": "NameError",
     "evalue": "name 'MappingSource' is not defined",
     "output_type": "error",
     "traceback": [
      "\u001b[31m---------------------------------------------------------------------------\u001b[39m",
      "\u001b[31mNameError\u001b[39m                                 Traceback (most recent call last)",
      "\u001b[36mCell\u001b[39m\u001b[36m \u001b[39m\u001b[32mIn[1]\u001b[39m\u001b[32m, line 1\u001b[39m\n\u001b[32m----> \u001b[39m\u001b[32m1\u001b[39m ms = \u001b[43mMappingSource\u001b[49m(\n\u001b[32m      2\u001b[39m     ids=\u001b[38;5;28mid\u001b[39m,                \u001b[38;5;66;03m# 你的主数据 id 列表\u001b[39;00m\n\u001b[32m      3\u001b[39m     jobs=job,              \u001b[38;5;66;03m# 可不使用但可保留\u001b[39;00m\n\u001b[32m      4\u001b[39m     job_types=job_type,    \u001b[38;5;66;03m# 与 id 对齐的职业类型\u001b[39;00m\n\u001b[32m      5\u001b[39m )\n\u001b[32m      7\u001b[39m report = run(\u001b[33m\"\u001b[39m\u001b[33mtemp.csv\u001b[39m\u001b[33m\"\u001b[39m, ms, random_seed=\u001b[32m200\u001b[39m)\n\u001b[32m      9\u001b[39m \u001b[38;5;66;03m# 成功分组\u001b[39;00m\n",
      "\u001b[31mNameError\u001b[39m: name 'MappingSource' is not defined"
     ]
    }
   ],
   "source": [
    "ms = MappingSource(\n",
    "    ids=id,                # 你的主数据 id 列表\n",
    "    jobs=job,              # 可不使用但可保留\n",
    "    job_types=job_type,    # 与 id 对齐的职业类型\n",
    ")\n",
    "\n",
    "report = run(\"temp.csv\", ms, random_seed=200)\n",
    "\n",
    "# 成功分组\n",
    "print(report.grouped)        # 各队成员ID\n",
    "print(report.grouped_jobs)   # 各队成员职业\n",
    "\n",
    "# 问题汇总\n",
    "print(\"Warnings:\", report.warnings)\n",
    "print(\"Errors:\", report.errors)\n",
    "print(\"Unmapped:\", report.unmapped_ids)\n",
    "print(\"Invalid:\", report.invalid_ids)\n",
    "print(\"Leftover:\", report.leftover_buckets)\n",
    "\n",
    "for t_i, (id_i, job_i) in enumerate(zip(report.grouped, report.grouped_jobs)):\n",
    "    print(f\"{t_i+1}队\")\n",
    "    print(f\"{id_i}\")\n",
    "    print(f\"{job_i}\")\n",
    "    print(f\"==========\")"
   ]
  },
  {
   "cell_type": "code",
   "execution_count": 44,
   "id": "96f41c4f",
   "metadata": {},
   "outputs": [],
   "source": [
    "from openpyxl import load_workbook\n",
    "\n",
    "# 1) 载入模板\n",
    "wb = load_workbook(\"一条排班.xlsx\")\n",
    "ws = wb[\"Sheet1\"]  # 替换为你的工作表名"
   ]
  },
  {
   "cell_type": "code",
   "execution_count": 45,
   "id": "d5ea0912",
   "metadata": {},
   "outputs": [],
   "source": [
    "from datetime import datetime\n",
    "now = datetime.now()\n",
    "alphbet = [[\"A\", \"B\"], [\"C\", \"D\"], [\"E\", \"F\"], [\"G\", \"H\"]]\n",
    "\n",
    "for i in range(6):\n",
    "    for t_i, (id_i, job_i) in enumerate(zip(report.grouped, report.grouped_jobs)):\n",
    "        if i >= len(id_i):\n",
    "            ws[f'{alphbet[t_i][0]}{i+2}'].value = \"\"\n",
    "            ws[f'{alphbet[t_i][1]}{i+2}'].value = \"\"\n",
    "        else:\n",
    "            ws[f'{alphbet[t_i][0]}{i+2}'].value = id_i[i]\n",
    "            ws[f'{alphbet[t_i][1]}{i+2}'].value = job_i[i]\n",
    "\n",
    "wb.save(f\"{now.strftime('%Y%m%d')}一条.xlsx\")"
   ]
  },
  {
   "cell_type": "code",
   "execution_count": null,
   "id": "869f140b",
   "metadata": {},
   "outputs": [],
   "source": [
    "from tabulate import tabulate\n",
    "from IPython.display import Markdown\n",
    "\n",
    "data = []\n",
    "for i in range(6):\n",
    "    data_i = []\n",
    "    for t_i, (id_i, job_i) in enumerate(zip(report.grouped, report.grouped_jobs)):\n",
    "        if i >= len(id_i):\n",
    "            data_i.extend([\"\",\"\"])\n",
    "        else:\n",
    "            data_i.extend([id_i[i], job_i[i]])\n",
    "    data.append(data_i)\n",
    "\n",
    "headers = [\"ID\",\"职业\"] * len(report.grouped)\n",
    "md = tabulate(data, headers=headers, tablefmt=\"github\")\n",
    "display(Markdown(md))"
   ]
  },
  {
   "cell_type": "code",
   "execution_count": null,
   "id": "aa04d92e",
   "metadata": {},
   "outputs": [],
   "source": []
  }
 ],
 "metadata": {
  "kernelspec": {
   "display_name": "MDP",
   "language": "python",
   "name": "python3"
  },
  "language_info": {
   "codemirror_mode": {
    "name": "ipython",
    "version": 3
   },
   "file_extension": ".py",
   "mimetype": "text/x-python",
   "name": "python",
   "nbconvert_exporter": "python",
   "pygments_lexer": "ipython3",
   "version": "3.13.7"
  }
 },
 "nbformat": 4,
 "nbformat_minor": 5
}
