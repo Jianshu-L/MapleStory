{
 "cells": [
  {
   "cell_type": "code",
   "execution_count": 48,
   "id": "e92af432",
   "metadata": {},
   "outputs": [],
   "source": [
    "from run import ms"
   ]
  },
  {
   "cell_type": "code",
   "execution_count": 59,
   "id": "851c241e",
   "metadata": {},
   "outputs": [],
   "source": [
    "import pandas as pd\n",
    "df = pd.DataFrame({\"ids\": ms.ids, \"jobs\": ms.jobs, \"job_types\": ms.job_types})"
   ]
  },
  {
   "cell_type": "code",
   "execution_count": null,
   "id": "f06efb3f",
   "metadata": {},
   "outputs": [],
   "source": [
    "meng_xin = [Nemo尼莫, Hoyt, 枇杷树, 点恋线, 铅笔笔拳, timemei, 强人锁男, 冰峡江月, 声微饭否, 猫猫爱金币, 朗姆柠梨, 小颖宝, 青哦苹果, 千万恶霸, 义气丶奶]\n",
    "help_meng_xin = [怪力, 滴滴叭叭, Flash936, 白菜飞]"
   ]
  },
  {
   "cell_type": "code",
   "execution_count": 70,
   "id": "e3f49b21",
   "metadata": {},
   "outputs": [
    {
     "data": {
      "text/html": [
       "<div>\n",
       "<style scoped>\n",
       "    .dataframe tbody tr th:only-of-type {\n",
       "        vertical-align: middle;\n",
       "    }\n",
       "\n",
       "    .dataframe tbody tr th {\n",
       "        vertical-align: top;\n",
       "    }\n",
       "\n",
       "    .dataframe thead th {\n",
       "        text-align: right;\n",
       "    }\n",
       "</style>\n",
       "<table border=\"1\" class=\"dataframe\">\n",
       "  <thead>\n",
       "    <tr style=\"text-align: right;\">\n",
       "      <th></th>\n",
       "      <th>ids</th>\n",
       "      <th>job_types</th>\n",
       "    </tr>\n",
       "    <tr>\n",
       "      <th>jobs</th>\n",
       "      <th></th>\n",
       "      <th></th>\n",
       "    </tr>\n",
       "  </thead>\n",
       "  <tbody>\n",
       "    <tr>\n",
       "      <th>冰雷</th>\n",
       "      <td>[天天酱, 冰封de记忆]</td>\n",
       "      <td>[冰雷, 冰雷]</td>\n",
       "    </tr>\n",
       "    <tr>\n",
       "      <th>刀</th>\n",
       "      <td>[滴滴叭叭, 无敌铁锅, Cris, 暗影灬, 白菜飞, Flash936, 进击的大腿]</td>\n",
       "      <td>[近战, 近战, 近战, 近战, 近战, 近战, 近战]</td>\n",
       "    </tr>\n",
       "    <tr>\n",
       "      <th>圣骑</th>\n",
       "      <td>[日落沙滩前]</td>\n",
       "      <td>[近战]</td>\n",
       "    </tr>\n",
       "    <tr>\n",
       "      <th>奶</th>\n",
       "      <td>[千万恶霸, 义气丶奶, 小颖宝, 青哦苹果, 小手很烫]</td>\n",
       "      <td>[奶, 奶, 奶, 奶, 奶]</td>\n",
       "    </tr>\n",
       "    <tr>\n",
       "      <th>弓</th>\n",
       "      <td>[Nemo尼莫, Hoyt, 枇杷树, 羽寒, 怪力, 越前小憋, 鱼儿爱看雪, 亚太首席技师]</td>\n",
       "      <td>[眼, 眼, 眼, 眼, 眼, 眼, 眼, 眼]</td>\n",
       "    </tr>\n",
       "    <tr>\n",
       "      <th>弩</th>\n",
       "      <td>[点恋线, 桥本奈奈未]</td>\n",
       "      <td>[眼, 眼]</td>\n",
       "    </tr>\n",
       "    <tr>\n",
       "      <th>拳</th>\n",
       "      <td>[阿树, 铅笔笔拳]</td>\n",
       "      <td>[拳, 拳]</td>\n",
       "    </tr>\n",
       "    <tr>\n",
       "      <th>标</th>\n",
       "      <td>[timemei, 喃]</td>\n",
       "      <td>[远程, 远程]</td>\n",
       "    </tr>\n",
       "    <tr>\n",
       "      <th>火</th>\n",
       "      <td>[强人锁男, 冰峡江月, Lancer, 声微饭否, 情人游天地, 一天也]</td>\n",
       "      <td>[火, 火, 火, 火, 火, 火]</td>\n",
       "    </tr>\n",
       "    <tr>\n",
       "      <th>火毒</th>\n",
       "      <td>[猫猫爱金币]</td>\n",
       "      <td>[近战]</td>\n",
       "    </tr>\n",
       "    <tr>\n",
       "      <th>船</th>\n",
       "      <td>[朗姆柠梨]</td>\n",
       "      <td>[远程]</td>\n",
       "    </tr>\n",
       "    <tr>\n",
       "      <th>饺子</th>\n",
       "      <td>[厉飞羽]</td>\n",
       "      <td>[近战]</td>\n",
       "    </tr>\n",
       "  </tbody>\n",
       "</table>\n",
       "</div>"
      ],
      "text/plain": [
       "                                                   ids  \\\n",
       "jobs                                                     \n",
       "冰雷                                       [天天酱, 冰封de记忆]   \n",
       "刀        [滴滴叭叭, 无敌铁锅, Cris, 暗影灬, 白菜飞, Flash936, 进击的大腿]   \n",
       "圣骑                                             [日落沙滩前]   \n",
       "奶                        [千万恶霸, 义气丶奶, 小颖宝, 青哦苹果, 小手很烫]   \n",
       "弓     [Nemo尼莫, Hoyt, 枇杷树, 羽寒, 怪力, 越前小憋, 鱼儿爱看雪, 亚太首席技师]   \n",
       "弩                                         [点恋线, 桥本奈奈未]   \n",
       "拳                                           [阿树, 铅笔笔拳]   \n",
       "标                                         [timemei, 喃]   \n",
       "火               [强人锁男, 冰峡江月, Lancer, 声微饭否, 情人游天地, 一天也]   \n",
       "火毒                                             [猫猫爱金币]   \n",
       "船                                               [朗姆柠梨]   \n",
       "饺子                                               [厉飞羽]   \n",
       "\n",
       "                         job_types  \n",
       "jobs                                \n",
       "冰雷                        [冰雷, 冰雷]  \n",
       "刀     [近战, 近战, 近战, 近战, 近战, 近战, 近战]  \n",
       "圣骑                            [近战]  \n",
       "奶                  [奶, 奶, 奶, 奶, 奶]  \n",
       "弓         [眼, 眼, 眼, 眼, 眼, 眼, 眼, 眼]  \n",
       "弩                           [眼, 眼]  \n",
       "拳                           [拳, 拳]  \n",
       "标                         [远程, 远程]  \n",
       "火               [火, 火, 火, 火, 火, 火]  \n",
       "火毒                            [近战]  \n",
       "船                             [远程]  \n",
       "饺子                            [近战]  "
      ]
     },
     "execution_count": 70,
     "metadata": {},
     "output_type": "execute_result"
    }
   ],
   "source": [
    "df.groupby(\"jobs\")[[\"ids\", \"job_types\"]].agg(list)"
   ]
  },
  {
   "cell_type": "code",
   "execution_count": null,
   "id": "27a2fef8",
   "metadata": {},
   "outputs": [],
   "source": []
  },
  {
   "cell_type": "code",
   "execution_count": null,
   "id": "88f19dc5",
   "metadata": {},
   "outputs": [],
   "source": []
  },
  {
   "cell_type": "code",
   "execution_count": null,
   "id": "85f10de1",
   "metadata": {},
   "outputs": [
    {
     "name": "stdout",
     "output_type": "stream",
     "text": [
      "[['千万恶霸', '阿树', '声微饭否', 'Flash936', '厉飞羽', '进击的大腿'], ['铅笔笔拳', '桥本奈奈未', '喃', 'timemei', '怪力', 'Nemo尼莫'], ['义气丶奶', '无敌铁锅', '白菜飞', 'Cris', '枇杷树', '亚太首席技师'], ['点恋线', 'Hoyt', '2. 小水果刀 单挂杯子', '冰封de记忆']]\n",
      "[['奶', '拳', '火', '近战', '近战', '近战'], ['奶', '眼', '远程', '远程', '眼', '眼'], ['奶', '近战', '近战', '近战', '眼', '眼'], ['眼', '眼', '', '冰雷']]\n",
      "Warnings: ['1 IDs have empty/unknown job_type.', 'Team4缺奶']\n",
      "Errors: []\n",
      "Unmapped: ['2. 小水果刀 单挂杯子']\n",
      "Invalid: []\n",
      "Leftover: {}\n"
     ]
    }
   ],
   "source": [
    "ms = MappingSource(\n",
    "    ids=id,                # 你的主数据 id 列表\n",
    "    jobs=job,              # 可不使用但可保留\n",
    "    job_types=job_type,    # 与 id 对齐的职业类型\n",
    ")\n",
    "\n",
    "report = run(\"temp.csv\", ms, random_seed=200)\n",
    "\n",
    "# 成功分组\n",
    "print(report.grouped)        # 各队成员ID\n",
    "print(report.grouped_jobs)   # 各队成员职业\n",
    "\n",
    "# 问题汇总\n",
    "print(\"Warnings:\", report.warnings)\n",
    "print(\"Errors:\", report.errors)\n",
    "print(\"Unmapped:\", report.unmapped_ids)\n",
    "print(\"Invalid:\", report.invalid_ids)\n",
    "print(\"Leftover:\", report.leftover_buckets)\n",
    "\n",
    "for t_i, (id_i, job_i) in enumerate(zip(report.grouped, report.grouped_jobs)):\n",
    "    print(f\"{t_i+1}队\")\n",
    "    print(f\"{id_i}\")\n",
    "    print(f\"{job_i}\")\n",
    "    print(f\"==========\")"
   ]
  },
  {
   "cell_type": "code",
   "execution_count": 44,
   "id": "96f41c4f",
   "metadata": {},
   "outputs": [],
   "source": [
    "from openpyxl import load_workbook\n",
    "\n",
    "# 1) 载入模板\n",
    "wb = load_workbook(\"一条排班.xlsx\")\n",
    "ws = wb[\"Sheet1\"]  # 替换为你的工作表名"
   ]
  },
  {
   "cell_type": "code",
   "execution_count": 45,
   "id": "d5ea0912",
   "metadata": {},
   "outputs": [],
   "source": [
    "from datetime import datetime\n",
    "now = datetime.now()\n",
    "alphbet = [[\"A\", \"B\"], [\"C\", \"D\"], [\"E\", \"F\"], [\"G\", \"H\"]]\n",
    "\n",
    "for i in range(6):\n",
    "    for t_i, (id_i, job_i) in enumerate(zip(report.grouped, report.grouped_jobs)):\n",
    "        if i >= len(id_i):\n",
    "            ws[f'{alphbet[t_i][0]}{i+2}'].value = \"\"\n",
    "            ws[f'{alphbet[t_i][1]}{i+2}'].value = \"\"\n",
    "        else:\n",
    "            ws[f'{alphbet[t_i][0]}{i+2}'].value = id_i[i]\n",
    "            ws[f'{alphbet[t_i][1]}{i+2}'].value = job_i[i]\n",
    "\n",
    "wb.save(f\"{now.strftime('%Y%m%d')}一条.xlsx\")"
   ]
  },
  {
   "cell_type": "code",
   "execution_count": null,
   "id": "869f140b",
   "metadata": {},
   "outputs": [],
   "source": [
    "from tabulate import tabulate\n",
    "from IPython.display import Markdown\n",
    "\n",
    "data = []\n",
    "for i in range(6):\n",
    "    data_i = []\n",
    "    for t_i, (id_i, job_i) in enumerate(zip(report.grouped, report.grouped_jobs)):\n",
    "        if i >= len(id_i):\n",
    "            data_i.extend([\"\",\"\"])\n",
    "        else:\n",
    "            data_i.extend([id_i[i], job_i[i]])\n",
    "    data.append(data_i)\n",
    "\n",
    "headers = [\"ID\",\"职业\"] * len(report.grouped)\n",
    "md = tabulate(data, headers=headers, tablefmt=\"github\")\n",
    "display(Markdown(md))"
   ]
  },
  {
   "cell_type": "code",
   "execution_count": null,
   "id": "aa04d92e",
   "metadata": {},
   "outputs": [],
   "source": []
  }
 ],
 "metadata": {
  "kernelspec": {
   "display_name": "MDP",
   "language": "python",
   "name": "python3"
  },
  "language_info": {
   "codemirror_mode": {
    "name": "ipython",
    "version": 3
   },
   "file_extension": ".py",
   "mimetype": "text/x-python",
   "name": "python",
   "nbconvert_exporter": "python",
   "pygments_lexer": "ipython3",
   "version": "3.13.7"
  }
 },
 "nbformat": 4,
 "nbformat_minor": 5
}
